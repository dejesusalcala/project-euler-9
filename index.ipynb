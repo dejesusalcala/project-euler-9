{
 "cells": [
  {
   "attachments": {},
   "cell_type": "raw",
   "metadata": {},
   "source": [
    "---\n",
    "title: Project Euler\n",
    "author: Angel Alcala Ruiz\n",
    "date: December 22, 2023\n",
    "format:\n",
    "    html:\n",
    "        code-fold: show\n",
    "        code-tools: true\n",
    "---"
   ]
  },
  {
   "attachments": {},
   "cell_type": "markdown",
   "metadata": {},
   "source": [
    "## Problem 9: Pythagorean Triplet"
   ]
  },
  {
   "attachments": {},
   "cell_type": "markdown",
   "metadata": {},
   "source": [
    "A Pythagorean triplet is a set of three natural numbers, $a < b < c$, for which,\n",
    "\n",
    "$$\n",
    "a^2 + b^2 = c^2 \n",
    "$$\n",
    "\n",
    "For example, $3^2 + 4 ^2 = 9 + 16 = 25 = 5^2$.\n",
    "\n",
    "There exists exactly one Pythagorean triplet for which $a + b + c = 1000$. Find the product $abc$."
   ]
  },
  {
   "attachments": {},
   "cell_type": "markdown",
   "metadata": {},
   "source": [
    "Let's solve this using **Julia**"
   ]
  },
  {
   "cell_type": "code",
   "execution_count": 1,
   "metadata": {},
   "outputs": [
    {
     "name": "stdout",
     "output_type": "stream",
     "text": [
      "a = 375\n",
      "b = 200\n",
      "c = 425\n",
      " \n",
      "a + b + c = 1000\n",
      "a^2 + b^2 = 180625\n",
      "c^2 = 180625\n",
      " \n",
      "a*b*c = 31875000\n"
     ]
    }
   ],
   "source": [
    "sum = 1000\n",
    "a = 0\n",
    "b = 0\n",
    "c = 0\n",
    "\n",
    "for i = 1:sum\n",
    "    for j = 1:sum\n",
    "        for k = 1:sum\n",
    "            if (1000 == i + j + k) & (i^2 + j^2 == k^2) \n",
    "                a = i\n",
    "                b = j \n",
    "                c = k\n",
    "            end\n",
    "        end\n",
    "    end\n",
    "end\n",
    "\n",
    "println(\"a = \", a)\n",
    "println(\"b = \", b)\n",
    "println(\"c = \", c)\n",
    "println(\" \")\n",
    "println(\"a + b + c = \", a + b + c)\n",
    "println(\"a^2 + b^2 = \", a^2 + b^2)\n",
    "println(\"c^2 = \", c^2)\n",
    "println(\" \")\n",
    "println(\"a*b*c = \", a*b*c)"
   ]
  },
  {
   "attachments": {},
   "cell_type": "markdown",
   "metadata": {},
   "source": [
    "Therefore we have that the product is 31,875,000."
   ]
  }
 ],
 "metadata": {
  "kernelspec": {
   "display_name": "Julia 1.9.3",
   "language": "julia",
   "name": "julia-1.9"
  },
  "language_info": {
   "file_extension": ".jl",
   "mimetype": "application/julia",
   "name": "julia",
   "version": "1.9.3"
  },
  "orig_nbformat": 4
 },
 "nbformat": 4,
 "nbformat_minor": 2
}
